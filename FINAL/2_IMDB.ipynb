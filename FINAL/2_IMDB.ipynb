{
  "cells": [
    {
      "cell_type": "code",
      "execution_count": 1,
      "metadata": {
        "id": "3pKLfltkaTGI"
      },
      "outputs": [
        {
          "name": "stdout",
          "output_type": "stream",
          "text": [
            "Model: \"sequential\"\n",
            "_________________________________________________________________\n",
            " Layer (type)                Output Shape              Param #   \n",
            "=================================================================\n",
            " dense (Dense)               (None, 16)                160016    \n",
            "                                                                 \n",
            " dense_1 (Dense)             (None, 16)                272       \n",
            "                                                                 \n",
            " dense_2 (Dense)             (None, 1)                 17        \n",
            "                                                                 \n",
            "=================================================================\n",
            "Total params: 160305 (626.19 KB)\n",
            "Trainable params: 160305 (626.19 KB)\n",
            "Non-trainable params: 0 (0.00 Byte)\n",
            "_________________________________________________________________\n",
            "Epoch 1/20\n",
            "35/35 [==============================] - 3s 48ms/step - loss: 0.1913 - accuracy: 0.7523 - val_loss: 0.1285 - val_accuracy: 0.8651\n",
            "Epoch 2/20\n",
            "35/35 [==============================] - 1s 19ms/step - loss: 0.0960 - accuracy: 0.8990 - val_loss: 0.0915 - val_accuracy: 0.8873\n",
            "Epoch 3/20\n",
            "35/35 [==============================] - 1s 19ms/step - loss: 0.0646 - accuracy: 0.9299 - val_loss: 0.0825 - val_accuracy: 0.8928\n",
            "Epoch 4/20\n",
            "35/35 [==============================] - 1s 17ms/step - loss: 0.0489 - accuracy: 0.9485 - val_loss: 0.0817 - val_accuracy: 0.8916\n",
            "Epoch 5/20\n",
            "35/35 [==============================] - 1s 17ms/step - loss: 0.0377 - accuracy: 0.9633 - val_loss: 0.0823 - val_accuracy: 0.8885\n",
            "Epoch 6/20\n",
            "35/35 [==============================] - 1s 17ms/step - loss: 0.0294 - accuracy: 0.9729 - val_loss: 0.0834 - val_accuracy: 0.8849\n",
            "Epoch 7/20\n",
            "35/35 [==============================] - 1s 17ms/step - loss: 0.0228 - accuracy: 0.9811 - val_loss: 0.0862 - val_accuracy: 0.8835\n",
            "Epoch 8/20\n",
            "35/35 [==============================] - 1s 20ms/step - loss: 0.0177 - accuracy: 0.9866 - val_loss: 0.0893 - val_accuracy: 0.8827\n",
            "Epoch 9/20\n",
            "35/35 [==============================] - 1s 17ms/step - loss: 0.0140 - accuracy: 0.9905 - val_loss: 0.0907 - val_accuracy: 0.8803\n",
            "Epoch 10/20\n",
            "35/35 [==============================] - 1s 16ms/step - loss: 0.0109 - accuracy: 0.9921 - val_loss: 0.0929 - val_accuracy: 0.8785\n",
            "Epoch 11/20\n",
            "35/35 [==============================] - 1s 16ms/step - loss: 0.0087 - accuracy: 0.9937 - val_loss: 0.0948 - val_accuracy: 0.8769\n",
            "Epoch 12/20\n",
            "35/35 [==============================] - 1s 16ms/step - loss: 0.0071 - accuracy: 0.9949 - val_loss: 0.0967 - val_accuracy: 0.8759\n",
            "Epoch 13/20\n",
            "35/35 [==============================] - 1s 17ms/step - loss: 0.0061 - accuracy: 0.9956 - val_loss: 0.0982 - val_accuracy: 0.8745\n",
            "Epoch 14/20\n",
            "35/35 [==============================] - 1s 17ms/step - loss: 0.0055 - accuracy: 0.9958 - val_loss: 0.0992 - val_accuracy: 0.8745\n",
            "Epoch 15/20\n",
            "35/35 [==============================] - 1s 17ms/step - loss: 0.0051 - accuracy: 0.9959 - val_loss: 0.1005 - val_accuracy: 0.8735\n",
            "Epoch 16/20\n",
            "35/35 [==============================] - 1s 17ms/step - loss: 0.0048 - accuracy: 0.9959 - val_loss: 0.1014 - val_accuracy: 0.8733\n",
            "Epoch 17/20\n",
            "35/35 [==============================] - 1s 17ms/step - loss: 0.0046 - accuracy: 0.9959 - val_loss: 0.1021 - val_accuracy: 0.8741\n",
            "Epoch 18/20\n",
            "35/35 [==============================] - 1s 18ms/step - loss: 0.0045 - accuracy: 0.9959 - val_loss: 0.1028 - val_accuracy: 0.8733\n",
            "Epoch 19/20\n",
            "35/35 [==============================] - 1s 18ms/step - loss: 0.0044 - accuracy: 0.9959 - val_loss: 0.1035 - val_accuracy: 0.8725\n",
            "Epoch 20/20\n",
            "35/35 [==============================] - 1s 17ms/step - loss: 0.0043 - accuracy: 0.9960 - val_loss: 0.1040 - val_accuracy: 0.8723\n"
          ]
        }
      ],
      "source": [
        "from tensorflow.keras.datasets import imdb\n",
        "(train_data, train_label), (test_data, test_label) = imdb.load_data(num_words = 10000)\n",
        "import numpy as np\n",
        "\n",
        "def vectorize_sequences(sequences, dimensions = 10000):\n",
        "  results = np.zeros((len(sequences), dimensions))\n",
        "  for i,sequences in enumerate(sequences):\n",
        "    results[i, sequences] = 1\n",
        "  return results\n",
        "\n",
        "x_train = vectorize_sequences(train_data)\n",
        "y_train = vectorize_sequences(test_data)\n",
        "y_train = np.asarray(train_label).astype('float32')\n",
        "y_test = np.asarray(test_label).astype('float32')\n",
        "from tensorflow.keras.models import Sequential\n",
        "from tensorflow.keras.layers import Dense\n",
        "model = Sequential()\n",
        "model.add(Dense(16, input_shape=(10000, ), activation = \"relu\"))\n",
        "model.add(Dense(16, activation = \"relu\"))\n",
        "model.add(Dense(1, activation = \"sigmoid\"))\n",
        "model.compile(optimizer='adam', loss = 'mse', metrics = ['accuracy'])\n",
        "model.summary()\n",
        "history = model.fit(x_train, y_train, validation_split = 0.3, epochs = 20, verbose = 1, batch_size = 512)"
      ]
    },
    {
      "cell_type": "code",
      "execution_count": null,
      "metadata": {
        "colab": {
          "base_uri": "https://localhost:8080/"
        },
        "id": "q4kkC5m4dB9g",
        "outputId": "fa651f20-551c-42be-a6f0-c42129324d41"
      },
      "outputs": [],
      "source": []
    },
    {
      "cell_type": "code",
      "execution_count": null,
      "metadata": {
        "id": "zQSeawyChhL8"
      },
      "outputs": [],
      "source": []
    },
    {
      "cell_type": "code",
      "execution_count": null,
      "metadata": {
        "id": "bfvRmjVvj8UH"
      },
      "outputs": [],
      "source": []
    },
    {
      "cell_type": "code",
      "execution_count": null,
      "metadata": {
        "id": "A1fj3RCWpl8g"
      },
      "outputs": [],
      "source": []
    },
    {
      "cell_type": "code",
      "execution_count": null,
      "metadata": {
        "id": "9ESdCTH5p3xJ"
      },
      "outputs": [],
      "source": []
    },
    {
      "cell_type": "code",
      "execution_count": null,
      "metadata": {
        "id": "t3u-nNLarXzk"
      },
      "outputs": [],
      "source": []
    },
    {
      "cell_type": "code",
      "execution_count": null,
      "metadata": {
        "colab": {
          "base_uri": "https://localhost:8080/"
        },
        "id": "Z9mUT6JqrlmZ",
        "outputId": "2c647471-7be6-409f-b58b-19f1f56557c9"
      },
      "outputs": [],
      "source": []
    },
    {
      "cell_type": "code",
      "execution_count": null,
      "metadata": {
        "colab": {
          "base_uri": "https://localhost:8080/"
        },
        "id": "4DeosLh5rnaQ",
        "outputId": "3d005b2f-4ca4-4f71-9e3a-2396bbfc170f"
      },
      "outputs": [],
      "source": []
    }
  ],
  "metadata": {
    "colab": {
      "provenance": []
    },
    "kernelspec": {
      "display_name": "Python 3",
      "name": "python3"
    },
    "language_info": {
      "codemirror_mode": {
        "name": "ipython",
        "version": 3
      },
      "file_extension": ".py",
      "mimetype": "text/x-python",
      "name": "python",
      "nbconvert_exporter": "python",
      "pygments_lexer": "ipython3",
      "version": "3.10.11"
    }
  },
  "nbformat": 4,
  "nbformat_minor": 0
}
